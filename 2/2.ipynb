{
 "cells": [
  {
   "cell_type": "code",
   "execution_count": 80,
   "id": "6589636c",
   "metadata": {},
   "outputs": [],
   "source": [
    "with open('input.txt', 'r') as file:\n",
    "    Doc = file.read()\n",
    "    \n",
    "Lis = Doc.split('\\n')\n",
    "rptLis = [i.split(\" \") for i in Lis]\n",
    "\n",
    "finLis = []\n",
    "for i in rptLis:\n",
    "    lis = [int(x) for x in i]\n",
    "    finLis.append(lis)"
   ]
  },
  {
   "cell_type": "code",
   "execution_count": 81,
   "id": "75bee1c0",
   "metadata": {},
   "outputs": [],
   "source": [
    "def checkDiff(diff):\n",
    "    if all(1 <= abs(num) <= 3 for num in diff):\n",
    "        if all(num < 0 for num in diff):\n",
    "            return True\n",
    "        elif all(num > 0 for num in diff):\n",
    "            return True\n",
    "        else:\n",
    "            return False\n",
    "    else:\n",
    "        return False\n",
    "\n",
    "def checkValid(lvlLis):\n",
    "    \n",
    "    diff = []\n",
    "    for idx, v in enumerate(lvlLis):\n",
    "        if idx == 0:\n",
    "            continue\n",
    "        diff.append(v - lvlLis[idx-1])\n",
    "        \n",
    "    if checkDiff(diff) == True:\n",
    "        return 1\n",
    "    \n",
    "    \n",
    "    for idx, v in enumerate(lvlLis):\n",
    "        subLis = lvlLis.copy()\n",
    "        subLis.pop(idx)\n",
    "        diff = []\n",
    "        for idx2, v2 in enumerate(subLis):\n",
    "            if idx2 == 0:\n",
    "                continue\n",
    "            diff.append(v2 - subLis[idx2-1])\n",
    "\n",
    "        if checkDiff(diff) == True:\n",
    "            return 1\n",
    "    \n",
    "    return 0\n",
    "        \n",
    "        "
   ]
  },
  {
   "cell_type": "code",
   "execution_count": 82,
   "id": "1dfc38f7",
   "metadata": {},
   "outputs": [
    {
     "name": "stdout",
     "output_type": "stream",
     "text": [
      "577\n"
     ]
    }
   ],
   "source": [
    "count = 0\n",
    "\n",
    "for i in finLis:\n",
    "    count += checkValid(i)\n",
    "\n",
    "print(count)"
   ]
  },
  {
   "cell_type": "code",
   "execution_count": null,
   "id": "0de28014",
   "metadata": {},
   "outputs": [],
   "source": []
  },
  {
   "cell_type": "code",
   "execution_count": null,
   "id": "5a06d1e4",
   "metadata": {},
   "outputs": [],
   "source": []
  }
 ],
 "metadata": {
  "kernelspec": {
   "display_name": "Python 3 (ipykernel)",
   "language": "python",
   "name": "python3"
  },
  "language_info": {
   "codemirror_mode": {
    "name": "ipython",
    "version": 3
   },
   "file_extension": ".py",
   "mimetype": "text/x-python",
   "name": "python",
   "nbconvert_exporter": "python",
   "pygments_lexer": "ipython3",
   "version": "3.10.11"
  }
 },
 "nbformat": 4,
 "nbformat_minor": 5
}
