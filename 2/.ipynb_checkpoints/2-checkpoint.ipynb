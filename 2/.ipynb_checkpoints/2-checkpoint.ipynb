{
 "cells": [
  {
   "cell_type": "code",
   "execution_count": 77,
   "id": "6832f8a7",
   "metadata": {},
   "outputs": [],
   "source": [
    "with open('input.txt', 'r') as file:\n",
    "    Doc = file.read()\n",
    "    \n",
    "Lis = Doc.split('\\n')\n",
    "rptLis = [i.split(\" \") for i in Lis]\n",
    "\n",
    "finLis = []\n",
    "for i in rptLis:\n",
    "    lis = [int(x) for x in i]\n",
    "    finLis.append(lis)"
   ]
  },
  {
   "cell_type": "code",
   "execution_count": 78,
   "id": "c89dc34f",
   "metadata": {},
   "outputs": [],
   "source": [
    "def checkDiff(diff):\n",
    "    if all(1 <= abs(num) <= 3 for num in diff):\n",
    "        if all(num < 0 for num in diff):\n",
    "            return True\n",
    "        elif all(num > 0 for num in diff):\n",
    "            return True\n",
    "        else:\n",
    "            return False\n",
    "    else:\n",
    "        return False\n",
    "\n",
    "def checkValid(lvlLis):\n",
    "    \n",
    "    diff = []\n",
    "    for idx, v in enumerate(lvlLis):\n",
    "        if idx == 0:\n",
    "            continue\n",
    "        diff.append(v - lvlLis[idx-1])\n",
    "        \n",
    "    if checkDiff(diff) == True:\n",
    "        return 1\n",
    "    \n",
    "    \n",
    "    for idx, v in enumerate(lvlLis):\n",
    "        subLis = lvlLis.copy()\n",
    "        subLis.pop(idx)\n",
    "        diff = []\n",
    "        for idx2, v2 in enumerate(subLis):\n",
    "            if idx2 == 0:\n",
    "                continue\n",
    "            diff.append(v2 - subLis[idx2-1])\n",
    "\n",
    "        if checkDiff(diff) == True:\n",
    "            return 1\n",
    "    \n",
    "    return 0\n",
    "        \n",
    "        "
   ]
  },
  {
   "cell_type": "code",
   "execution_count": 79,
   "id": "d43c5518",
   "metadata": {},
   "outputs": [
    {
     "name": "stdout",
     "output_type": "stream",
     "text": [
      "[67, 69, 71, 72, 75, 78, 76]\n",
      "[4, 6, 7, 9, 11, 12, 12]\n",
      "[20, 22, 25, 27, 28, 29, 33]\n",
      "[35, 37, 39, 42, 43, 46, 48, 53]\n",
      "[46, 49, 48, 51, 53]\n",
      "[19, 21, 22, 25, 25, 28]\n",
      "[35, 38, 41, 45, 44]\n",
      "[36, 39, 42, 43, 44, 47, 53, 50]\n",
      "[46, 45, 47, 49, 51]\n",
      "[11, 11, 14, 16, 17]\n",
      "[41, 45, 46, 48, 49, 51]\n",
      "[12, 18, 19, 22, 24]\n",
      "[57, 56, 54, 51, 48, 49]\n",
      "[88, 87, 86, 83, 83]\n",
      "[55, 52, 49, 48, 45, 42, 40, 36]\n",
      "[59, 56, 54, 53, 50, 49, 44]\n",
      "[28, 26, 25, 22, 21, 20, 21, 19]\n",
      "[32, 29, 29, 27, 25]\n",
      "[55, 53, 50, 44, 47]\n",
      "[21, 24, 21, 19, 17, 14]\n",
      "[83, 86, 81, 78, 77, 75]\n",
      "[14, 14, 11, 10, 7, 5]\n",
      "[97, 93, 92, 89, 88, 85, 83]\n",
      "[59, 53, 51, 49, 46, 43]\n",
      "[43, 40, 37, 34, 31, 28, 27, 30]\n",
      "[66, 69, 70, 69, 72, 74]\n",
      "[42, 45, 48, 52, 51]\n",
      "[90, 86, 85, 82, 79]\n",
      "[32, 35, 33, 32, 29, 26, 25, 22]\n",
      "[8, 8, 9, 10, 11, 14, 16, 18]\n",
      "[26, 29, 31, 32, 34, 33]\n",
      "[77, 77, 75, 74, 73, 71, 68]\n",
      "[93, 91, 92, 89, 88]\n",
      "[67, 65, 63, 61, 58, 57, 56, 50]\n",
      "[28, 25, 22, 22, 21]\n",
      "[18, 20, 23, 23, 25, 26]\n",
      "[22, 21, 18, 16, 13, 13]\n",
      "[35, 36, 38, 39, 42, 49]\n",
      "[26, 27, 30, 32, 35, 35]\n",
      "[73, 71, 68, 67, 64, 61, 57]\n",
      "[71, 69, 70, 69, 66]\n",
      "[31, 26, 25, 24, 22, 20]\n",
      "[75, 79, 76, 79, 80, 81]\n",
      "577\n"
     ]
    }
   ],
   "source": [
    "count = 0\n",
    "\n",
    "for i in finLis:\n",
    "    count += checkValid(i)\n",
    "\n",
    "print(count)"
   ]
  },
  {
   "cell_type": "code",
   "execution_count": null,
   "id": "5d2c074a",
   "metadata": {},
   "outputs": [],
   "source": []
  },
  {
   "cell_type": "code",
   "execution_count": null,
   "id": "8ea0dbcc",
   "metadata": {},
   "outputs": [],
   "source": []
  }
 ],
 "metadata": {
  "kernelspec": {
   "display_name": "Python 3 (ipykernel)",
   "language": "python",
   "name": "python3"
  },
  "language_info": {
   "codemirror_mode": {
    "name": "ipython",
    "version": 3
   },
   "file_extension": ".py",
   "mimetype": "text/x-python",
   "name": "python",
   "nbconvert_exporter": "python",
   "pygments_lexer": "ipython3",
   "version": "3.10.11"
  }
 },
 "nbformat": 4,
 "nbformat_minor": 5
}
