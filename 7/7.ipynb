{
 "cells": [
  {
   "cell_type": "code",
   "execution_count": 1,
   "metadata": {},
   "outputs": [],
   "source": [
    "with open('input.txt', 'r') as file:\n",
    "    inDoc = file.read()\n",
    "    \n",
    "Lis = inDoc.split('\\n')"
   ]
  },
  {
   "cell_type": "code",
   "execution_count": 2,
   "metadata": {},
   "outputs": [],
   "source": [
    "inDic = {}\n",
    "\n",
    "for i in Lis:\n",
    "    key = int(i.split(': ')[0])\n",
    "    val = i.split(': ')[1]\n",
    "    \n",
    "    inDic[key] = [int(x) for x in val.split(\" \")]"
   ]
  },
  {
   "cell_type": "code",
   "execution_count": 3,
   "metadata": {},
   "outputs": [
    {
     "name": "stdout",
     "output_type": "stream",
     "text": [
      "5512534574980\n"
     ]
    }
   ],
   "source": [
    "output = set()\n",
    "\n",
    "\n",
    "def recur(currVal, value, nums, idx, op):\n",
    "    global output\n",
    "    if idx+1 < len(nums):\n",
    "        if op == '+':\n",
    "            currVal = currVal + nums[idx+1]\n",
    "            recur(currVal, value, nums, idx+1, '+')\n",
    "            recur(currVal, value, nums, idx+1, '*')\n",
    "            \n",
    "        elif op == '*':\n",
    "            currVal = currVal * nums[idx+1]\n",
    "            recur(currVal, value, nums, idx+1, '+')\n",
    "            recur(currVal, value, nums, idx+1, '*')\n",
    "            \n",
    "    else:\n",
    "        if value == currVal:\n",
    "            output.add(value)\n",
    "            return\n",
    "    \n",
    "\n",
    "\n",
    "for i in inDic.keys():\n",
    "    \n",
    "    value = i\n",
    "    nums = inDic[i]\n",
    "    idx = 0\n",
    "    \n",
    "    recur(nums[0], value, nums, idx, '+')\n",
    "    \n",
    "    recur(nums[0], value, nums, idx, '*')\n",
    "    \n",
    "\n",
    "print(sum(output))\n",
    "    \n",
    "    \n",
    "    "
   ]
  },
  {
   "cell_type": "code",
   "execution_count": 3,
   "metadata": {},
   "outputs": [
    {
     "name": "stdout",
     "output_type": "stream",
     "text": [
      "328790210468594\n"
     ]
    }
   ],
   "source": [
    "output = set()\n",
    "\n",
    "\n",
    "def recur(currVal, value, nums, idx, op):\n",
    "    global output\n",
    "    if idx+1 < len(nums):\n",
    "        if op == '+':\n",
    "            currVal = currVal + nums[idx+1]\n",
    "            recur(currVal, value, nums, idx+1, '+')\n",
    "            recur(currVal, value, nums, idx+1, '*')\n",
    "            recur(currVal, value, nums, idx+1, '||')\n",
    "            \n",
    "        elif op == '*':\n",
    "            currVal = currVal * nums[idx+1]\n",
    "            recur(currVal, value, nums, idx+1, '+')\n",
    "            recur(currVal, value, nums, idx+1, '*')\n",
    "            recur(currVal, value, nums, idx+1, '||')\n",
    "            \n",
    "        elif op == '||':\n",
    "            currVal = int(str(currVal) + str(nums[idx+1]))\n",
    "            recur(currVal, value, nums, idx+1, '+')\n",
    "            recur(currVal, value, nums, idx+1, '*')\n",
    "            recur(currVal, value, nums, idx+1, '||')\n",
    "            \n",
    "    else:\n",
    "        if value == currVal:\n",
    "            output.add(value)\n",
    "            return\n",
    "    \n",
    "\n",
    "\n",
    "for i in inDic.keys():\n",
    "    \n",
    "    value = i\n",
    "    nums = inDic[i]\n",
    "    idx = 0\n",
    "    \n",
    "    recur(nums[0], value, nums, idx, '+')\n",
    "    \n",
    "    recur(nums[0], value, nums, idx, '*')\n",
    "    \n",
    "    recur(nums[0], value, nums, idx, '||')\n",
    "\n",
    "print(sum(output))"
   ]
  },
  {
   "cell_type": "code",
   "execution_count": null,
   "metadata": {},
   "outputs": [],
   "source": []
  }
 ],
 "metadata": {
  "kernelspec": {
   "display_name": "Python 3",
   "language": "python",
   "name": "python3"
  },
  "language_info": {
   "codemirror_mode": {
    "name": "ipython",
    "version": 3
   },
   "file_extension": ".py",
   "mimetype": "text/x-python",
   "name": "python",
   "nbconvert_exporter": "python",
   "pygments_lexer": "ipython3",
   "version": "3.10.11"
  }
 },
 "nbformat": 4,
 "nbformat_minor": 2
}
