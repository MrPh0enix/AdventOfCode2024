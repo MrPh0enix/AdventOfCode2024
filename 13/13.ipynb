{
 "cells": [
  {
   "cell_type": "code",
   "execution_count": null,
   "metadata": {},
   "outputs": [],
   "source": [
    "with open('input.txt', 'r') as file:\n",
    "    Doc = file.read()\n",
    "\n",
    "Lis = Doc.split('\\n\\n')\n",
    "inptDic = {}\n",
    "Lis = [x.split('\\n') for x  in Lis]\n",
    "\n",
    "\n",
    "for i in Lis:\n",
    "    A_x = int(i[0][12:14])\n",
    "    A_y = int(i[0][18:20])\n",
    "    B_x = int(i[1][12:14])\n",
    "    B_y = int(i[1][18:20])\n",
    "    start_index = i[2].find(\"X=\")\n",
    "    end_index = i[2].find(\",\", start_index)\n",
    "    P_x = int(i[2][start_index+2 :end_index])\n",
    "    start_index = i[2].find(\"Y=\")\n",
    "    end_index = i[2].find(\",\", start_index)\n",
    "    P_y = int(i[2][start_index+2 :len(i[2])])\n",
    "    \n",
    "    inptDic[(P_x, P_y)] = [(A_x, A_y), (B_x, B_y)]\n",
    "    \n"
   ]
  },
  {
   "cell_type": "code",
   "execution_count": null,
   "metadata": {},
   "outputs": [],
   "source": [
    "cost = 0\n",
    "\n",
    "for key in inptDic.keys():\n",
    "    done = False\n",
    "    for a_times in range(0, 101):\n",
    "        for b_times in range(0, 101):\n",
    "            \n",
    "            P_x = key[0]\n",
    "            P_y = key[1]\n",
    "            A_x = inptDic[key][0][0]\n",
    "            A_y = inptDic[key][0][1]\n",
    "            B_x = inptDic[key][1][0]\n",
    "            B_y = inptDic[key][1][1]\n",
    "            \n",
    "            if (A_x*a_times + B_x*b_times == P_x) and (A_y*a_times + B_y*b_times == P_y):\n",
    "                done = True\n",
    "                cost += (a_times*3 + b_times*1)\n",
    "            if (A_x*a_times > P_x and B_x*b_times > P_x) or (A_y*a_times > P_y and B_y*b_times > P_y):\n",
    "                done = True\n",
    "                \n",
    "            if done == True:\n",
    "                break\n",
    "                \n",
    "        if done == True:\n",
    "            break\n",
    "        \n",
    "print(cost)\n",
    "            "
   ]
  }
 ],
 "metadata": {
  "kernelspec": {
   "display_name": "Python 3",
   "language": "python",
   "name": "python3"
  },
  "language_info": {
   "codemirror_mode": {
    "name": "ipython",
    "version": 3
   },
   "file_extension": ".py",
   "mimetype": "text/x-python",
   "name": "python",
   "nbconvert_exporter": "python",
   "pygments_lexer": "ipython3",
   "version": "3.10.11"
  }
 },
 "nbformat": 4,
 "nbformat_minor": 2
}
