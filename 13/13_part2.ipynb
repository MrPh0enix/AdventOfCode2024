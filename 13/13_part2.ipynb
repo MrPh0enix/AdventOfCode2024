{
 "cells": [
  {
   "cell_type": "code",
   "execution_count": null,
   "metadata": {},
   "outputs": [],
   "source": [
    "with open('input.txt', 'r') as file:\n",
    "    Doc = file.read()\n",
    "\n",
    "Lis = Doc.split('\\n\\n')\n",
    "inptDic = {}\n",
    "Lis = [x.split('\\n') for x  in Lis]\n",
    "\n",
    "\n",
    "for i in Lis:\n",
    "    A_x = int(i[0][12:14])\n",
    "    A_y = int(i[0][18:20])\n",
    "    B_x = int(i[1][12:14])\n",
    "    B_y = int(i[1][18:20])\n",
    "    start_index = i[2].find(\"X=\")\n",
    "    end_index = i[2].find(\",\", start_index)\n",
    "    P_x = 10000000000000 + int(i[2][start_index+2 :end_index])\n",
    "    start_index = i[2].find(\"Y=\")\n",
    "    end_index = i[2].find(\",\", start_index)\n",
    "    P_y = 10000000000000 + int(i[2][start_index+2 :len(i[2])])\n",
    "    \n",
    "    inptDic[(P_x, P_y)] = [(A_x, A_y), (B_x, B_y)]    \n"
   ]
  },
  {
   "cell_type": "code",
   "execution_count": null,
   "metadata": {},
   "outputs": [],
   "source": [
    "# Linear optimization solution\n",
    "\n",
    "import pulp\n",
    "\n",
    "cost = 0\n",
    "\n",
    "\n",
    "for key in inptDic.keys():\n",
    "    \n",
    "    P_x = key[0]\n",
    "    P_y = key[1]\n",
    "    A_x = inptDic[key][0][0]\n",
    "    A_y = inptDic[key][0][1]\n",
    "    B_x = inptDic[key][1][0]\n",
    "    B_y = inptDic[key][1][1]\n",
    "\n",
    "\n",
    "    prob = pulp.LpProblem(\"Minimize_Cost_Function\", pulp.LpMinimize)\n",
    "\n",
    "   \n",
    "    a_times = pulp.LpVariable('x1', lowBound=0, upBound=10000000000000 cat='Integer') \n",
    "    b_times = pulp.LpVariable('x2', lowBound=0, upBound=10000000000000, cat='Integer')  \n",
    "\n",
    "    prob += 3*a_times + 1*b_times\n",
    "\n",
    "    prob += ((A_x*a_times) + (B_x*b_times)) == P_x\n",
    "    prob += ((A_y*a_times) + (B_y*b_times)) == P_y\n",
    "\n",
    "    prob.solve()\n",
    "    \n",
    "    if pulp.LpStatus[prob.status] == 'Optimal':\n",
    "        optx1 = a_times.varValue\n",
    "        optx2 = b_times.varValue\n",
    "        \n",
    "        cost += (optx1*3 + optx2*1)\n",
    "        \n",
    "    else:\n",
    "        pass\n",
    "    \n",
    "        \n",
    "print(cost)     "
   ]
  },
  {
   "cell_type": "code",
   "execution_count": null,
   "metadata": {},
   "outputs": [],
   "source": [
    "# Linear algebra solution\n",
    "\n",
    "from sympy import symbols, Eq, solve\n",
    "\n",
    "cost = 0\n",
    "\n",
    "for key in inptDic.keys():\n",
    "    \n",
    "    P_x = key[0]\n",
    "    P_y = key[1]\n",
    "    A_x = inptDic[key][0][0]\n",
    "    A_y = inptDic[key][0][1]\n",
    "    B_x = inptDic[key][1][0]\n",
    "    B_y = inptDic[key][1][1]\n",
    "    \n",
    "    a_times, b_times = symbols('a_times, b_times')\n",
    "    \n",
    "    eq1 = Eq(((A_x*a_times) + (B_x*b_times)), P_x)\n",
    "    eq2 = Eq(((A_y*a_times) + (B_y*b_times)), P_y)\n",
    "    \n",
    "    result = solve((eq1, eq2), (a_times, b_times))\n",
    "\n",
    "    \n",
    "    if result[a_times] == int(result[a_times]) and result[b_times] == int(result[b_times]):\n",
    "        cost += (3*result[a_times] + 1*result[b_times])\n",
    "        \n",
    "print(cost)"
   ]
  },
  {
   "cell_type": "code",
   "execution_count": null,
   "metadata": {},
   "outputs": [],
   "source": [
    "\n"
   ]
  }
 ],
 "metadata": {
  "kernelspec": {
   "display_name": "Python 3",
   "language": "python",
   "name": "python3"
  },
  "language_info": {
   "codemirror_mode": {
    "name": "ipython",
    "version": 3
   },
   "file_extension": ".py",
   "mimetype": "text/x-python",
   "name": "python",
   "nbconvert_exporter": "python",
   "pygments_lexer": "ipython3",
   "version": "3.10.11"
  }
 },
 "nbformat": 4,
 "nbformat_minor": 2
}
