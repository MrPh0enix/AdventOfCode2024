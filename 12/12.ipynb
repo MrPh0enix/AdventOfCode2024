{
 "cells": [
  {
   "cell_type": "code",
   "execution_count": 1,
   "metadata": {},
   "outputs": [
    {
     "data": {
      "text/plain": [
       "[['R', 'R', 'R', 'R', 'I', 'I', 'C', 'C', 'F', 'F'],\n",
       " ['R', 'R', 'R', 'R', 'I', 'I', 'C', 'C', 'C', 'F'],\n",
       " ['V', 'V', 'R', 'R', 'R', 'C', 'C', 'F', 'F', 'F'],\n",
       " ['V', 'V', 'R', 'C', 'C', 'C', 'J', 'F', 'F', 'F'],\n",
       " ['V', 'V', 'V', 'V', 'C', 'J', 'J', 'C', 'F', 'E'],\n",
       " ['V', 'V', 'I', 'V', 'C', 'C', 'J', 'J', 'E', 'E'],\n",
       " ['V', 'V', 'I', 'I', 'I', 'C', 'J', 'J', 'E', 'E'],\n",
       " ['M', 'I', 'I', 'I', 'I', 'I', 'J', 'J', 'E', 'E'],\n",
       " ['M', 'I', 'I', 'I', 'S', 'I', 'J', 'E', 'E', 'E'],\n",
       " ['M', 'M', 'M', 'I', 'S', 'S', 'J', 'E', 'E', 'E']]"
      ]
     },
     "execution_count": 1,
     "metadata": {},
     "output_type": "execute_result"
    }
   ],
   "source": [
    "with open('input2.txt', 'r') as file:\n",
    "    Doc = file.read()\n",
    "    \n",
    "Lis = Doc.split('\\n')\n",
    "finLis = [list(i) for i in Lis]\n",
    "finLis"
   ]
  },
  {
   "cell_type": "code",
   "execution_count": 3,
   "metadata": {},
   "outputs": [
    {
     "data": {
      "text/plain": [
       "[['0', '0', '0', '0', '1', '1', '2', '2', '3', '3'],\n",
       " ['0', '0', '0', '0', '1', '1', '2', '2', '2', '3'],\n",
       " ['4', '4', '0', '0', '0', '2', '2', '3', '3', '3'],\n",
       " ['4', '4', '0', '2', '2', '2', '5', '3', '3', '3'],\n",
       " ['4', '4', '4', '4', '2', '5', '5', '6', '3', '7'],\n",
       " ['4', '4', '8', '4', '2', '2', '5', '5', '7', '7'],\n",
       " ['4', '4', '8', '8', '8', '2', '5', '5', '7', '7'],\n",
       " ['9', '8', '8', '8', '8', '8', '5', '5', '7', '7'],\n",
       " ['9', '8', '8', '8', '10', '8', '5', '7', '7', '7'],\n",
       " ['9', '9', '9', '8', '10', '10', '5', '7', '7', '7']]"
      ]
     },
     "execution_count": 3,
     "metadata": {},
     "output_type": "execute_result"
    }
   ],
   "source": [
    "import copy\n",
    "outLis = []\n",
    "\n",
    "def convert_to_ids(input):\n",
    "    global outLis\n",
    "    id = 0\n",
    "    outLis = copy.deepcopy(input)\n",
    "    for idx1, val1 in enumerate(outLis):\n",
    "        for idx2, val2 in enumerate(val1):\n",
    "            \n",
    "            if val2.isalpha():\n",
    "                val = outLis[idx1][idx2]\n",
    "                recurStar(idx2, idx1, outLis, val, id)\n",
    "                id += 1\n",
    "                \n",
    "    return outLis\n",
    "\n",
    "\n",
    "def recurStar(x,y, outLis, val, id):\n",
    "    \n",
    "    outLis[y][x] = str(id)\n",
    "   \n",
    "    \n",
    "    #UP\n",
    "    if y > 0 and outLis[y-1][x].isalpha() and outLis[y-1][x] == val:\n",
    "        recurStar(x, y-1, outLis, val, id)\n",
    "    #DOWN\n",
    "    if y < len(outLis)-1 and outLis[y+1][x].isalpha() and outLis[y+1][x] == val:\n",
    "        recurStar(x, y+1, outLis, val, id)\n",
    "    #LEFT\n",
    "    if x > 0 and outLis[y][x-1].isalpha() and outLis[y][x-1] == val:\n",
    "        recurStar(x-1, y, outLis, val, id)\n",
    "    #RIGHT\n",
    "    if x < len(outLis[0])-1 and outLis[y][x+1].isalpha() and outLis[y][x+1] == val:\n",
    "        recurStar(x+1, y, outLis, val, id)\n",
    "        \n",
    "    return\n",
    "\n",
    "\n",
    "numLis = convert_to_ids(finLis)\n",
    "numLis\n"
   ]
  },
  {
   "cell_type": "code",
   "execution_count": 4,
   "metadata": {},
   "outputs": [
    {
     "name": "stdout",
     "output_type": "stream",
     "text": [
      "1930\n"
     ]
    }
   ],
   "source": [
    "doneLis = []\n",
    "\n",
    "def calcPrice(input):\n",
    "    global doneLis\n",
    "    numsDone = []\n",
    "    score = 0\n",
    "    doneLis = copy.deepcopy(input)\n",
    "    for idx1, val1 in enumerate(input):\n",
    "        for idx2, val2 in enumerate(val1):\n",
    "            \n",
    "            if  val2 not in numsDone:\n",
    "                numsDone.append(val2)\n",
    "                area, peri = calcArea(idx1, idx2, doneLis, val2, 0, 0, input)\n",
    "                score += (area*peri)\n",
    "    \n",
    "    return score\n",
    "\n",
    "            \n",
    "def calcArea(y, x, doneLis, val, area, peri, input):\n",
    "    \n",
    "    doneLis[y][x] = '*'\n",
    "    area += 1\n",
    "    peri += calcPeri(y, x, val, input)\n",
    "    \n",
    "    \n",
    "    #UP\n",
    "    if y > 0 and doneLis[y-1][x].isdigit() and doneLis[y-1][x] == val:\n",
    "        area, peri = calcArea(y-1, x, doneLis, val, area, peri, input)\n",
    "    #DOWN\n",
    "    if y < len(doneLis)-1 and doneLis[y+1][x].isdigit() and doneLis[y+1][x] == val:\n",
    "        area, peri = calcArea(y+1, x, doneLis, val, area, peri, input)\n",
    "    #LEFT\n",
    "    if x > 0 and doneLis[y][x-1].isdigit() and doneLis[y][x-1] == val:\n",
    "        area, peri = calcArea(y, x-1, doneLis, val, area, peri, input)\n",
    "    #RIGHT\n",
    "    if x < len(doneLis[0])-1 and doneLis[y][x+1].isdigit() and doneLis[y][x+1] == val:\n",
    "        area, peri = calcArea(y, x+1, doneLis, val, area, peri, input)    \n",
    "    \n",
    "    \n",
    "    return area, peri\n",
    "\n",
    "\n",
    "def calcPeri(y, x, val, input):\n",
    "    count = 0\n",
    "    \n",
    "    if y == 0 or (y > 0 and input[y-1][x] != val):\n",
    "        count += 1\n",
    "    if y == len(input)-1 or (y < len(input)-1 and input[y+1][x] != val):\n",
    "        count += 1\n",
    "    if x == 0 or (x > 0 and input[y][x-1] != val):\n",
    "        count += 1\n",
    "    if x == len(input[0])-1 or (x < len(input[0])-1 and input[y][x+1] != val):\n",
    "        count += 1\n",
    "    \n",
    "    return count\n",
    "\n",
    "\n",
    "def calcSides(y, x, val, input):\n",
    "    \n",
    "    count = 0 \n",
    "        \n",
    "        \n",
    "        \n",
    "            \n",
    "print(calcPrice(numLis))"
   ]
  },
  {
   "cell_type": "code",
   "execution_count": null,
   "metadata": {},
   "outputs": [],
   "source": []
  }
 ],
 "metadata": {
  "kernelspec": {
   "display_name": "Python 3",
   "language": "python",
   "name": "python3"
  },
  "language_info": {
   "codemirror_mode": {
    "name": "ipython",
    "version": 3
   },
   "file_extension": ".py",
   "mimetype": "text/x-python",
   "name": "python",
   "nbconvert_exporter": "python",
   "pygments_lexer": "ipython3",
   "version": "3.10.11"
  }
 },
 "nbformat": 4,
 "nbformat_minor": 2
}
