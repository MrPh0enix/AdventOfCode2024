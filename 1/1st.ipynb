{
 "cells": [
  {
   "cell_type": "code",
   "execution_count": 13,
   "id": "24377a7e",
   "metadata": {},
   "outputs": [
    {
     "data": {
      "text/plain": [
       "1000"
      ]
     },
     "execution_count": 13,
     "metadata": {},
     "output_type": "execute_result"
    }
   ],
   "source": [
    "with open('input.txt', 'r') as file:\n",
    "    locDoc = file.read()\n",
    "    \n",
    "locLis = locDoc.split('\\n')\n",
    "locLis1 = [n.split(' ')[0] for n in locLis]\n",
    "locLis2 = [n.split(' ')[3] for n in locLis]"
   ]
  },
  {
   "cell_type": "code",
   "execution_count": 14,
   "id": "1b2eb4f8",
   "metadata": {},
   "outputs": [],
   "source": [
    "locLis1.sort()\n",
    "locLis2.sort()"
   ]
  },
  {
   "cell_type": "code",
   "execution_count": 20,
   "id": "1f745025",
   "metadata": {},
   "outputs": [
    {
     "data": {
      "text/plain": [
       "1889772"
      ]
     },
     "execution_count": 20,
     "metadata": {},
     "output_type": "execute_result"
    }
   ],
   "source": [
    "sum = 0\n",
    "for i in range(len(locLis1)):\n",
    "    diff = abs(int(locLis1[i]) - int(locLis2[i]))\n",
    "    sum += diff\n",
    "sum"
   ]
  },
  {
   "cell_type": "code",
   "execution_count": 21,
   "id": "5d8d16fc",
   "metadata": {},
   "outputs": [
    {
     "data": {
      "text/plain": [
       "23228917"
      ]
     },
     "execution_count": 21,
     "metadata": {},
     "output_type": "execute_result"
    }
   ],
   "source": [
    "simScr = 0\n",
    "for i in locLis1:\n",
    "    ct = locLis2.count(i)\n",
    "    simScr += int(i)*ct\n",
    "simScr"
   ]
  },
  {
   "cell_type": "code",
   "execution_count": null,
   "id": "4a7321d6",
   "metadata": {},
   "outputs": [],
   "source": []
  }
 ],
 "metadata": {
  "kernelspec": {
   "display_name": "Python 3 (ipykernel)",
   "language": "python",
   "name": "python3"
  },
  "language_info": {
   "codemirror_mode": {
    "name": "ipython",
    "version": 3
   },
   "file_extension": ".py",
   "mimetype": "text/x-python",
   "name": "python",
   "nbconvert_exporter": "python",
   "pygments_lexer": "ipython3",
   "version": "3.10.11"
  }
 },
 "nbformat": 4,
 "nbformat_minor": 5
}
