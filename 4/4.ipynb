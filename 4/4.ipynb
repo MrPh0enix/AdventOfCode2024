{
 "cells": [
  {
   "cell_type": "code",
   "execution_count": 19,
   "metadata": {},
   "outputs": [
    {
     "data": {
      "text/plain": [
       "140"
      ]
     },
     "execution_count": 19,
     "metadata": {},
     "output_type": "execute_result"
    }
   ],
   "source": [
    "\n",
    "with open('input.txt', 'r') as file:\n",
    "    inDoc = file.read()\n",
    "\n",
    "Lis = inDoc.split('\\n')\n",
    "Lis = [list(x) for x in Lis]\n",
    "len(Lis)"
   ]
  },
  {
   "cell_type": "code",
   "execution_count": 20,
   "metadata": {},
   "outputs": [
    {
     "data": {
      "text/plain": [
       "443"
      ]
     },
     "execution_count": 20,
     "metadata": {},
     "output_type": "execute_result"
    }
   ],
   "source": [
    "def checkHorizontal(list):\n",
    "    count = 0\n",
    "    for i in list:\n",
    "        l = 0\n",
    "        r = l+4\n",
    "        subLis = i\n",
    "        while r <= len(list):\n",
    "            if \"\".join(subLis[l:r]) == 'XMAS':\n",
    "                count += 1\n",
    "                l += 1\n",
    "                r += 1\n",
    "                \n",
    "            elif \"\".join(subLis[l:r]) == 'SAMX':\n",
    "                count += 1\n",
    "                l += 1\n",
    "                r += 1\n",
    "                \n",
    "            else:\n",
    "                l += 1\n",
    "                r += 1\n",
    "                \n",
    "    return count\n",
    "        \n",
    "checkHorizontal(Lis)"
   ]
  },
  {
   "cell_type": "code",
   "execution_count": 21,
   "metadata": {},
   "outputs": [
    {
     "data": {
      "text/plain": [
       "437"
      ]
     },
     "execution_count": 21,
     "metadata": {},
     "output_type": "execute_result"
    }
   ],
   "source": [
    "def checkVertical(list):\n",
    "    count = 0\n",
    "    t = 0\n",
    "    # b = t+4\n",
    "    \n",
    "    while t <= len(list) - 4:\n",
    "        for i, let in enumerate(list[t]):\n",
    "            if let == 'X':\n",
    "                if list[t+1][i] == 'M':\n",
    "                    if list[t+2][i] == 'A':\n",
    "                        if list[t+3][i] == 'S':\n",
    "                            count += 1\n",
    "            elif let == 'S':\n",
    "                if list[t+1][i] == 'A':\n",
    "                    if list[t+2][i] == 'M':\n",
    "                        if list[t+3][i] == 'X':\n",
    "                            count += 1  \n",
    "        \n",
    "        t += 1\n",
    "\n",
    "    return count\n",
    "\n",
    "checkVertical(Lis)"
   ]
  },
  {
   "cell_type": "code",
   "execution_count": 22,
   "metadata": {},
   "outputs": [
    {
     "data": {
      "text/plain": [
       "1641"
      ]
     },
     "execution_count": 22,
     "metadata": {},
     "output_type": "execute_result"
    }
   ],
   "source": [
    "def checkDiagonal(list):\n",
    "    count = 0\n",
    "    t = 0\n",
    "    # b = t + 4\n",
    "    \n",
    "    while t <= len(list) - 4:\n",
    "        for i, let in enumerate(list[t]):\n",
    "            #Right diagonal\n",
    "            if i <= len(list[t]) - 4:\n",
    "                if let == 'X' and list[t+1][i+1] == 'M' and list[t+2][i+2] == 'A' and list[t+3][i+3] == 'S':\n",
    "                    count += 1\n",
    "                if let == 'S' and list[t+1][i+1] == 'A' and list[t+2][i+2] == 'M' and list[t+3][i+3] == 'X':\n",
    "                    count += 1\n",
    "                    \n",
    "            #Left diagonal\n",
    "            if i >= 3:\n",
    "                if let == 'X' and list[t+1][i-1] == 'M' and list[t+2][i-2] == 'A' and list[t+3][i-3] == 'S':\n",
    "                    count += 1\n",
    "                if let == 'S' and list[t+1][i-1] == 'A' and list[t+2][i-2] == 'M' and list[t+3][i-3] == 'X':\n",
    "                    count += 1\n",
    "        \n",
    "        t += 1\n",
    "    \n",
    "    return count\n",
    "\n",
    "checkDiagonal(Lis)"
   ]
  },
  {
   "cell_type": "code",
   "execution_count": 23,
   "metadata": {},
   "outputs": [
    {
     "data": {
      "text/plain": [
       "2521"
      ]
     },
     "execution_count": 23,
     "metadata": {},
     "output_type": "execute_result"
    }
   ],
   "source": [
    "totalCount = checkHorizontal(Lis) + checkVertical(Lis) + checkDiagonal(Lis)\n",
    "totalCount"
   ]
  },
  {
   "cell_type": "code",
   "execution_count": 26,
   "metadata": {},
   "outputs": [
    {
     "name": "stdout",
     "output_type": "stream",
     "text": [
      "1912\n"
     ]
    }
   ],
   "source": [
    "def checkX_mas(list):\n",
    "    count = 0\n",
    "    t = 0\n",
    "    \n",
    "    while t <= len(list) - 3:\n",
    "        for i, let in enumerate(list[t]):\n",
    "            if i <= len(list[t]) - 3:\n",
    "                \n",
    "                if let == 'M' and list[t][i+2] == 'S' and list[t+1][i+1] == 'A' and list[t+2][i] == 'M' and list[t+2][i+2] == 'S':\n",
    "                    count += 1\n",
    "                if let == 'S' and list[t][i+2] == 'M' and list[t+1][i+1] == 'A' and list[t+2][i] == 'S' and list[t+2][i+2] == 'M':\n",
    "                    count += 1\n",
    "                if let == 'S' and list[t][i+2] == 'S' and list[t+1][i+1] == 'A' and list[t+2][i] == 'M' and list[t+2][i+2] == 'M':\n",
    "                    count += 1\n",
    "                if let == 'M' and list[t][i+2] == 'M' and list[t+1][i+1] == 'A' and list[t+2][i] == 'S' and list[t+2][i+2] == 'S':\n",
    "                    count += 1\n",
    "        \n",
    "        t += 1\n",
    "    \n",
    "    print(count)\n",
    "\n",
    "checkX_mas(Lis)"
   ]
  },
  {
   "cell_type": "code",
   "execution_count": null,
   "metadata": {},
   "outputs": [],
   "source": []
  }
 ],
 "metadata": {
  "kernelspec": {
   "display_name": "Python 3",
   "language": "python",
   "name": "python3"
  },
  "language_info": {
   "codemirror_mode": {
    "name": "ipython",
    "version": 3
   },
   "file_extension": ".py",
   "mimetype": "text/x-python",
   "name": "python",
   "nbconvert_exporter": "python",
   "pygments_lexer": "ipython3",
   "version": "3.10.11"
  }
 },
 "nbformat": 4,
 "nbformat_minor": 2
}
