{
 "cells": [
  {
   "cell_type": "code",
   "execution_count": null,
   "metadata": {},
   "outputs": [],
   "source": [
    "with open('input.txt', 'r') as file:\n",
    "    Doc = file.read()\n",
    "    \n",
    "Lis = Doc.split('\\n')\n",
    "rptLis = [list(i) for i in Lis]\n",
    "\n",
    "finLis = []\n",
    "for i in rptLis:\n",
    "    lis = [int(x) for x in i]\n",
    "    finLis.append(lis)\n",
    "\n"
   ]
  },
  {
   "cell_type": "code",
   "execution_count": null,
   "metadata": {},
   "outputs": [
    {
     "name": "stdout",
     "output_type": "stream",
     "text": [
      "760\n"
     ]
    }
   ],
   "source": [
    "#PART 1\n",
    "\n",
    "paths = 0\n",
    "pathsLis = []\n",
    "\n",
    "def recurSearch(x, y, currNum, inputLis, initial):\n",
    "    global paths\n",
    "    global pathsLis\n",
    "    \n",
    "    terminate = False\n",
    "    \n",
    "    numTofind = currNum+1\n",
    "    \n",
    "    if numTofind == 10 and [initial, (x, y)] not in pathsLis:\n",
    "        pathsLis.append([initial, (x, y)])\n",
    "        paths += 1\n",
    "        return\n",
    "    elif numTofind == 10:\n",
    "        return\n",
    "        \n",
    "    \n",
    "    # UP\n",
    "    if y > 0 and inputLis[y-1][x] == numTofind:\n",
    "        recurSearch(x, y-1, numTofind, inputLis, initial)\n",
    "    #DOWN\n",
    "    if y < len(inputLis)-1 and inputLis[y+1][x] == numTofind:\n",
    "        recurSearch(x, y+1, numTofind, inputLis, initial)\n",
    "    #LEFT\n",
    "    if x > 0 and inputLis[y][x-1] == numTofind:\n",
    "        recurSearch(x-1, y, numTofind, inputLis, initial)\n",
    "    #RIGHT\n",
    "    if x < len(inputLis[0])-1 and inputLis[y][x+1] == numTofind:\n",
    "        recurSearch(x+1, y, numTofind, inputLis, initial)\n",
    "    \n",
    "    \n",
    "    return\n",
    "       \n",
    "    \n",
    "\n",
    "def calcScore(inputLis):\n",
    "\n",
    "    \n",
    "    for idx1, i in enumerate(inputLis):\n",
    "        for idx2, j in enumerate(i):\n",
    "            if j == 0:\n",
    "                initial = (idx2, idx1)\n",
    "                recurSearch(idx2, idx1, 0, inputLis, initial)\n",
    "    \n",
    "    return paths\n",
    "\n",
    "print(calcScore(finLis))"
   ]
  },
  {
   "cell_type": "code",
   "execution_count": null,
   "metadata": {},
   "outputs": [
    {
     "name": "stdout",
     "output_type": "stream",
     "text": [
      "1764\n"
     ]
    }
   ],
   "source": [
    "#PART 2\n",
    "\n",
    "paths = 0\n",
    "pathsLis = []\n",
    "\n",
    "def recurDistinctSearch(x, y, currNum, inputLis):\n",
    "    global paths\n",
    "    global pathsLis\n",
    "    \n",
    "    terminate = False\n",
    "    \n",
    "    numTofind = currNum+1\n",
    "    \n",
    "    if numTofind == 10:\n",
    "        paths += 1\n",
    "        return\n",
    "        \n",
    "    \n",
    "    # UP\n",
    "    if y > 0 and inputLis[y-1][x] == numTofind:\n",
    "        recurDistinctSearch(x, y-1, numTofind, inputLis)\n",
    "    #DOWN\n",
    "    if y < len(inputLis)-1 and inputLis[y+1][x] == numTofind:\n",
    "        recurDistinctSearch(x, y+1, numTofind, inputLis)\n",
    "    #LEFT\n",
    "    if x > 0 and inputLis[y][x-1] == numTofind:\n",
    "        recurDistinctSearch(x-1, y, numTofind, inputLis)\n",
    "    #RIGHT\n",
    "    if x < len(inputLis[0])-1 and inputLis[y][x+1] == numTofind:\n",
    "        recurDistinctSearch(x+1, y, numTofind, inputLis)\n",
    "    \n",
    "    \n",
    "    return\n",
    "       \n",
    "    \n",
    "\n",
    "def calcScore(inputLis):\n",
    "\n",
    "    \n",
    "    for idx1, i in enumerate(inputLis):\n",
    "        for idx2, j in enumerate(i):\n",
    "            if j == 0:\n",
    "                initial = (idx2, idx1)\n",
    "                recurDistinctSearch(idx2, idx1, 0, inputLis)\n",
    "    \n",
    "    return paths\n",
    "\n",
    "print(calcScore(finLis))"
   ]
  },
  {
   "cell_type": "code",
   "execution_count": null,
   "metadata": {},
   "outputs": [],
   "source": []
  }
 ],
 "metadata": {
  "kernelspec": {
   "display_name": "Python 3",
   "language": "python",
   "name": "python3"
  },
  "language_info": {
   "codemirror_mode": {
    "name": "ipython",
    "version": 3
   },
   "file_extension": ".py",
   "mimetype": "text/x-python",
   "name": "python",
   "nbconvert_exporter": "python",
   "pygments_lexer": "ipython3",
   "version": "3.10.11"
  }
 },
 "nbformat": 4,
 "nbformat_minor": 2
}
