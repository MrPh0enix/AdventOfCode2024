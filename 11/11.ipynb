{
 "cells": [
  {
   "cell_type": "code",
   "execution_count": 27,
   "metadata": {},
   "outputs": [
    {
     "data": {
      "text/plain": [
       "['4189', '413', '82070', '61', '655813', '7478611', '0', '8']"
      ]
     },
     "execution_count": 27,
     "metadata": {},
     "output_type": "execute_result"
    }
   ],
   "source": [
    "with open('input.txt', 'r') as file:\n",
    "    Doc = file.read()\n",
    "    \n",
    "Lis = Doc.split(' ')\n",
    "Lis"
   ]
  },
  {
   "cell_type": "code",
   "execution_count": null,
   "metadata": {},
   "outputs": [],
   "source": [
    "def blink(times, input):\n",
    "    \n",
    "    \n",
    "    while times > 0:\n",
    "        \n",
    "        idx = 0\n",
    "        # for idx, val in enumerate(input):\n",
    "        while idx <= len(input) - 1:\n",
    "            \n",
    "            val = input[idx]\n",
    "            \n",
    "            if val == '0':\n",
    "                input[idx] = '1'\n",
    "                idx += 1\n",
    "            elif len(val) % 2 == 0:\n",
    "                input[idx] = val[:len(val)//2]\n",
    "                \n",
    "                #to remove trailing zeroes\n",
    "                insertVal = val[len(val)//2:]\n",
    "                insertVal = int(insertVal)\n",
    "                insertVal = str(insertVal)\n",
    "                \n",
    "                input.insert(idx+1, insertVal)\n",
    "                \n",
    "                idx += 2\n",
    "            else:\n",
    "                input[idx] = str(int(val)*2024)\n",
    "                idx += 1\n",
    "                \n",
    "        times -= 1\n",
    "        print(times)\n",
    "        \n",
    "    return input\n",
    "\n",
    "\n",
    "print(len(blink(75, Lis)))      "
   ]
  },
  {
   "cell_type": "code",
   "execution_count": 29,
   "metadata": {},
   "outputs": [
    {
     "name": "stdout",
     "output_type": "stream",
     "text": [
      "221291560078593\n"
     ]
    }
   ],
   "source": [
    "from functools import lru_cache, cache\n",
    "\n",
    "\n",
    "@cache\n",
    "def blinkRecursive(times, input):\n",
    "    \n",
    "    if times == 0:\n",
    "        return 1\n",
    "    \n",
    "    if input == '0':\n",
    "        return blinkRecursive(times-1, '1')\n",
    "    \n",
    "    elif len(input)%2 == 0:\n",
    "        return blinkRecursive(times-1, input[:len(input)//2]) + blinkRecursive(times-1, str(int(input[len(input)//2:])))\n",
    "        \n",
    "    else:\n",
    "        return blinkRecursive(times-1, str(int(input)*2024))\n",
    "        \n",
    "    \n",
    "count = 0\n",
    "    \n",
    "for v in Lis:\n",
    "\n",
    "    count += blinkRecursive(75, v)\n",
    "    \n",
    "    \n",
    "print(count)  \n",
    "    "
   ]
  },
  {
   "cell_type": "code",
   "execution_count": null,
   "metadata": {},
   "outputs": [],
   "source": []
  }
 ],
 "metadata": {
  "kernelspec": {
   "display_name": "Python 3",
   "language": "python",
   "name": "python3"
  },
  "language_info": {
   "codemirror_mode": {
    "name": "ipython",
    "version": 3
   },
   "file_extension": ".py",
   "mimetype": "text/x-python",
   "name": "python",
   "nbconvert_exporter": "python",
   "pygments_lexer": "ipython3",
   "version": "3.10.11"
  }
 },
 "nbformat": 4,
 "nbformat_minor": 2
}
